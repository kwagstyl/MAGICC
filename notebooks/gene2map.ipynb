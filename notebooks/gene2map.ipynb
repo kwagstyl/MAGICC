{
  "cells": [
    {
      "cell_type": "markdown",
      "metadata": {
        "id": "9c3l3K6Mo7F0"
      },
      "source": [
        "Welcome to gene2map, an interactive notebook for plotting your gene of interest!"
      ]
    },
    {
      "cell_type": "code",
      "execution_count": 3,
      "metadata": {
        "colab": {
          "base_uri": "https://localhost:8080/"
        },
        "id": "5_jPIvpjo7F2",
        "outputId": "85fa1be9-060e-4361-8220-da78376bc12b"
      },
      "outputs": [
        {
          "name": "stdout",
          "output_type": "stream",
          "text": [
            "Looking in indexes: https://pypi.org/simple, https://pypi.ngc.nvidia.com\n",
            "Requirement already satisfied: matplotlib-surface-plotting in /data1/testing_plotters/matplotlib_surface_plotting (0.12)\n",
            "Requirement already satisfied: nibabel in /home/kwagstyl/anaconda3/envs/lexicon/lib/python3.10/site-packages (from matplotlib-surface-plotting) (4.0.2)\n",
            "Requirement already satisfied: matplotlib>=3.3.2 in /home/kwagstyl/anaconda3/envs/lexicon/lib/python3.10/site-packages (from matplotlib-surface-plotting) (3.6.2)\n",
            "Requirement already satisfied: contourpy>=1.0.1 in /home/kwagstyl/anaconda3/envs/lexicon/lib/python3.10/site-packages (from matplotlib>=3.3.2->matplotlib-surface-plotting) (1.0.6)\n",
            "Requirement already satisfied: pyparsing>=2.2.1 in /home/kwagstyl/anaconda3/envs/lexicon/lib/python3.10/site-packages (from matplotlib>=3.3.2->matplotlib-surface-plotting) (3.0.9)\n",
            "Requirement already satisfied: kiwisolver>=1.0.1 in /home/kwagstyl/anaconda3/envs/lexicon/lib/python3.10/site-packages (from matplotlib>=3.3.2->matplotlib-surface-plotting) (1.4.4)\n",
            "Requirement already satisfied: cycler>=0.10 in /home/kwagstyl/anaconda3/envs/lexicon/lib/python3.10/site-packages (from matplotlib>=3.3.2->matplotlib-surface-plotting) (0.11.0)\n",
            "Requirement already satisfied: packaging>=20.0 in /home/kwagstyl/anaconda3/envs/lexicon/lib/python3.10/site-packages (from matplotlib>=3.3.2->matplotlib-surface-plotting) (21.3)\n",
            "Requirement already satisfied: numpy>=1.19 in /home/kwagstyl/anaconda3/envs/lexicon/lib/python3.10/site-packages (from matplotlib>=3.3.2->matplotlib-surface-plotting) (1.23.4)\n",
            "Requirement already satisfied: pillow>=6.2.0 in /home/kwagstyl/anaconda3/envs/lexicon/lib/python3.10/site-packages (from matplotlib>=3.3.2->matplotlib-surface-plotting) (9.3.0)\n",
            "Requirement already satisfied: python-dateutil>=2.7 in /home/kwagstyl/anaconda3/envs/lexicon/lib/python3.10/site-packages (from matplotlib>=3.3.2->matplotlib-surface-plotting) (2.8.2)\n",
            "Requirement already satisfied: fonttools>=4.22.0 in /home/kwagstyl/anaconda3/envs/lexicon/lib/python3.10/site-packages (from matplotlib>=3.3.2->matplotlib-surface-plotting) (4.38.0)\n",
            "Requirement already satisfied: setuptools in /home/kwagstyl/anaconda3/envs/lexicon/lib/python3.10/site-packages (from nibabel->matplotlib-surface-plotting) (65.5.1)\n",
            "Requirement already satisfied: six>=1.5 in /home/kwagstyl/anaconda3/envs/lexicon/lib/python3.10/site-packages (from python-dateutil>=2.7->matplotlib>=3.3.2->matplotlib-surface-plotting) (1.16.0)\n",
            "Cloning into 'MAGICC'...\n",
            "warning: redirecting to https://github.com/kwagstyl/MAGICC.git/\n",
            "remote: Enumerating objects: 49, done.\u001b[K\n",
            "remote: Counting objects: 100% (49/49), done.\u001b[K\n",
            "remote: Compressing objects: 100% (40/40), done.\u001b[K\n",
            "remote: Total 49 (delta 13), reused 14 (delta 3), pack-reused 0\u001b[K\n",
            "Unpacking objects: 100% (49/49), 423.16 KiB | 1.92 MiB/s, done.\n"
          ]
        }
      ],
      "source": [
        "\n",
        "!pip install matplotlib-surface-plotting\n",
        "%matplotlib inline\n",
        "\n",
        "!git clone https://www.github.com/kwagstyl/MAGICC\n"
      ]
    },
    {
      "cell_type": "code",
      "execution_count": 4,
      "metadata": {
        "colab": {
          "base_uri": "https://localhost:8080/"
        },
        "id": "Z8e80N08o7F3",
        "outputId": "2e811b35-5b95-4afe-94b4-a2e4ef2ef5e0"
      },
      "outputs": [],
      "source": [
        "\n",
        "import sys\n",
        "sys.path.append('./MAGICC/')\n",
        "import magicc.data_loader as dl\n"
      ]
    },
    {
      "cell_type": "code",
      "execution_count": 5,
      "metadata": {
        "colab": {
          "base_uri": "https://localhost:8080/"
        },
        "id": "uwUN5sdppYba",
        "outputId": "1e45963f-7240-4661-a5dc-9782032d5d41"
      },
      "outputs": [
        {
          "name": "stdout",
          "output_type": "stream",
          "text": [
            "Downloading full dataset. This will take ~ 1 minute\n"
          ]
        }
      ],
      "source": [
        "#downloading, unzipping and loading the dataset\n",
        "gene2map = dl.MagiccDataset()"
      ]
    },
    {
      "cell_type": "code",
      "execution_count": 23,
      "metadata": {
        "id": "sSouC64Kp7bY"
      },
      "outputs": [],
      "source": []
    }
  ],
  "metadata": {
    "colab": {
      "provenance": []
    },
    "gpuClass": "standard",
    "kernelspec": {
      "display_name": "lexicon",
      "language": "python",
      "name": "python3"
    },
    "language_info": {
      "codemirror_mode": {
        "name": "ipython",
        "version": 3
      },
      "file_extension": ".py",
      "mimetype": "text/x-python",
      "name": "python",
      "nbconvert_exporter": "python",
      "pygments_lexer": "ipython3",
      "version": "3.10.6"
    },
    "orig_nbformat": 4,
    "vscode": {
      "interpreter": {
        "hash": "990b0b3efd867ed63337c69fb29eb0d1a02c7936b6be556b15bc2c9954c48f9a"
      }
    }
  },
  "nbformat": 4,
  "nbformat_minor": 0
}
