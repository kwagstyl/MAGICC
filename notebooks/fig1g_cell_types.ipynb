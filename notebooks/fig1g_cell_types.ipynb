{
 "cells": [
  {
   "cell_type": "code",
   "execution_count": 1,
   "metadata": {},
   "outputs": [],
   "source": [
    "#fig1g comparing regional distribution of cell types with marker genes from Lake et al.\n"
   ]
  },
  {
   "cell_type": "code",
   "execution_count": null,
   "metadata": {},
   "outputs": [],
   "source": [
    "import numpy as np\n",
    "import pandas as pd\n",
    "import os\n",
    "import nibabel as nb\n",
    "import seaborn as sns\n",
    "from matplotlib import pyplot as plt\n",
    "import scipy.stats as stats\n",
    "base_dir = '/data1/allen_surfaces/'\n",
    "%matplotlib inline"
   ]
  },
  {
   "cell_type": "code",
   "execution_count": 2,
   "metadata": {},
   "outputs": [],
   "source": [
    "df=pd.read_excel('lake_genes.xlsx',sheet_name='regional_diffs')\n",
    "#tidy to fill NAs.\n",
    "df['SubType'] = pd.Series(df['SubType']).fillna(method='ffill')\n"
   ]
  },
  {
   "cell_type": "code",
   "execution_count": 3,
   "metadata": {},
   "outputs": [],
   "source": [
    "ba_df=pd.read_excel('lake_genes.xlsx',sheet_name='BA')\n"
   ]
  },
  {
   "cell_type": "code",
   "execution_count": 4,
   "metadata": {},
   "outputs": [],
   "source": [
    "glasser_file=nb.load(os.path.join(base_dir,'hcp_surfs','fs_LR32k','Glasser_2016.32k.L.label.gii'))\n",
    "glasser=glasser_file.darrays[0].data\n",
    "labels_dict = glasser_file.labeltable.get_labels_as_dict()\n",
    "ba_to_glasser={'BA10':[65,72,88,89,90,170],'BA17':[1],\n",
    "              'BA21':[132,133,137,177],'BA22':[123,125,175],\n",
    "               'BA41/42':[24],'BA8':[63,67,68,70,73],\n",
    "              }\n",
    "parcellation=np.zeros(len(glasser)).astype(int)\n",
    "roi_list=[]\n",
    "for k,ba in enumerate(ba_to_glasser.keys()):\n",
    "        roi_list.append(ba)\n",
    "        for roi in ba_to_glasser[ba]:\n",
    "            parcellation[glasser==roi]=k+1"
   ]
  },
  {
   "cell_type": "code",
   "execution_count": 5,
   "metadata": {},
   "outputs": [],
   "source": [
    "cortex=nb.load(os.path.join(base_dir,'hcp_surfs','fs_LR32k','Glasser_2016.32k.L.label.gii'))\n",
    "cortex=cortex.darrays[0].data>0\n",
    "concat=np.load(os.path.join(base_dir,'all_subs_smoothed_z.npy'))"
   ]
  },
  {
   "cell_type": "code",
   "execution_count": 6,
   "metadata": {},
   "outputs": [],
   "source": [
    "from scripts.prepare_gene_lists.gene_mapping import get_indices"
   ]
  },
  {
   "cell_type": "code",
   "execution_count": 7,
   "metadata": {},
   "outputs": [
    {
     "name": "stdout",
     "output_type": "stream",
     "text": [
      "matching gene ids and names...\n",
      "warning,250 duplicates found\n"
     ]
    }
   ],
   "source": [
    "indexes,included=get_indices(df['Gene'],gene_ensembl=df['Ensembl ID'])\n",
    "all_indexes = np.zeros(len(included),dtype=int)-1\n",
    "all_indexes[included] = indexes"
   ]
  },
  {
   "cell_type": "code",
   "execution_count": 9,
   "metadata": {},
   "outputs": [
    {
     "name": "stdout",
     "output_type": "stream",
     "text": [
      "matching gene ids and names...\n",
      "Ex1 0.8108216266776312\n",
      "matching gene ids and names...\n",
      "Ex2 0.828869255873891\n",
      "matching gene ids and names...\n"
     ]
    },
    {
     "name": "stderr",
     "output_type": "stream",
     "text": [
      "/home/kwagstyl/anaconda3/envs/lexicon/lib/python3.7/site-packages/seaborn/_decorators.py:43: FutureWarning: Pass the following variables as keyword args: x, y. From version 0.12, the only valid positional argument will be `data`, and passing other arguments without an explicit keyword will result in an error or misinterpretation.\n",
      "  FutureWarning\n",
      "/home/kwagstyl/anaconda3/envs/lexicon/lib/python3.7/site-packages/seaborn/_decorators.py:43: FutureWarning: Pass the following variables as keyword args: x, y. From version 0.12, the only valid positional argument will be `data`, and passing other arguments without an explicit keyword will result in an error or misinterpretation.\n",
      "  FutureWarning\n",
      "/home/kwagstyl/anaconda3/envs/lexicon/lib/python3.7/site-packages/seaborn/_decorators.py:43: FutureWarning: Pass the following variables as keyword args: x, y. From version 0.12, the only valid positional argument will be `data`, and passing other arguments without an explicit keyword will result in an error or misinterpretation.\n",
      "  FutureWarning\n"
     ]
    },
    {
     "name": "stdout",
     "output_type": "stream",
     "text": [
      "Ex3 0.9851890662205524\n",
      "matching gene ids and names...\n",
      "Ex4 0.9293469641660734\n",
      "matching gene ids and names...\n",
      "Ex5 0.64186668854456\n",
      "matching gene ids and names...\n"
     ]
    },
    {
     "name": "stderr",
     "output_type": "stream",
     "text": [
      "/home/kwagstyl/anaconda3/envs/lexicon/lib/python3.7/site-packages/seaborn/_decorators.py:43: FutureWarning: Pass the following variables as keyword args: x, y. From version 0.12, the only valid positional argument will be `data`, and passing other arguments without an explicit keyword will result in an error or misinterpretation.\n",
      "  FutureWarning\n",
      "/home/kwagstyl/anaconda3/envs/lexicon/lib/python3.7/site-packages/seaborn/_decorators.py:43: FutureWarning: Pass the following variables as keyword args: x, y. From version 0.12, the only valid positional argument will be `data`, and passing other arguments without an explicit keyword will result in an error or misinterpretation.\n",
      "  FutureWarning\n"
     ]
    },
    {
     "name": "stdout",
     "output_type": "stream",
     "text": [
      "Ex6 0.3978105553191576\n",
      "matching gene ids and names...\n",
      "Ex7 0.6518912452132903\n",
      "matching gene ids and names...\n"
     ]
    },
    {
     "name": "stderr",
     "output_type": "stream",
     "text": [
      "/home/kwagstyl/anaconda3/envs/lexicon/lib/python3.7/site-packages/seaborn/_decorators.py:43: FutureWarning: Pass the following variables as keyword args: x, y. From version 0.12, the only valid positional argument will be `data`, and passing other arguments without an explicit keyword will result in an error or misinterpretation.\n",
      "  FutureWarning\n",
      "/home/kwagstyl/anaconda3/envs/lexicon/lib/python3.7/site-packages/seaborn/_decorators.py:43: FutureWarning: Pass the following variables as keyword args: x, y. From version 0.12, the only valid positional argument will be `data`, and passing other arguments without an explicit keyword will result in an error or misinterpretation.\n",
      "  FutureWarning\n"
     ]
    },
    {
     "name": "stdout",
     "output_type": "stream",
     "text": [
      "Ex8 -0.05498885030964374\n"
     ]
    },
    {
     "name": "stderr",
     "output_type": "stream",
     "text": [
      "/home/kwagstyl/anaconda3/envs/lexicon/lib/python3.7/site-packages/seaborn/_decorators.py:43: FutureWarning: Pass the following variables as keyword args: x, y. From version 0.12, the only valid positional argument will be `data`, and passing other arguments without an explicit keyword will result in an error or misinterpretation.\n",
      "  FutureWarning\n"
     ]
    },
    {
     "name": "stdout",
     "output_type": "stream",
     "text": [
      "matching gene ids and names...\n",
      "In1 0.8166638634359467\n",
      "matching gene ids and names...\n",
      "In2 -0.10036030749621465\n",
      "matching gene ids and names...\n"
     ]
    },
    {
     "name": "stderr",
     "output_type": "stream",
     "text": [
      "/home/kwagstyl/anaconda3/envs/lexicon/lib/python3.7/site-packages/seaborn/_decorators.py:43: FutureWarning: Pass the following variables as keyword args: x, y. From version 0.12, the only valid positional argument will be `data`, and passing other arguments without an explicit keyword will result in an error or misinterpretation.\n",
      "  FutureWarning\n",
      "/home/kwagstyl/anaconda3/envs/lexicon/lib/python3.7/site-packages/seaborn/_decorators.py:43: FutureWarning: Pass the following variables as keyword args: x, y. From version 0.12, the only valid positional argument will be `data`, and passing other arguments without an explicit keyword will result in an error or misinterpretation.\n",
      "  FutureWarning\n",
      "/home/kwagstyl/anaconda3/envs/lexicon/lib/python3.7/site-packages/seaborn/_decorators.py:43: FutureWarning: Pass the following variables as keyword args: x, y. From version 0.12, the only valid positional argument will be `data`, and passing other arguments without an explicit keyword will result in an error or misinterpretation.\n",
      "  FutureWarning\n",
      "/home/kwagstyl/anaconda3/envs/lexicon/lib/python3.7/site-packages/seaborn/_decorators.py:43: FutureWarning: Pass the following variables as keyword args: x, y. From version 0.12, the only valid positional argument will be `data`, and passing other arguments without an explicit keyword will result in an error or misinterpretation.\n",
      "  FutureWarning\n"
     ]
    },
    {
     "name": "stdout",
     "output_type": "stream",
     "text": [
      "In3 0.7323874991993939\n",
      "matching gene ids and names...\n",
      "In4 -0.2305221020669067\n",
      "matching gene ids and names...\n",
      "In5 0.058225584655688015\n",
      "matching gene ids and names...\n"
     ]
    },
    {
     "name": "stderr",
     "output_type": "stream",
     "text": [
      "/home/kwagstyl/anaconda3/envs/lexicon/lib/python3.7/site-packages/seaborn/_decorators.py:43: FutureWarning: Pass the following variables as keyword args: x, y. From version 0.12, the only valid positional argument will be `data`, and passing other arguments without an explicit keyword will result in an error or misinterpretation.\n",
      "  FutureWarning\n",
      "/home/kwagstyl/anaconda3/envs/lexicon/lib/python3.7/site-packages/seaborn/_decorators.py:43: FutureWarning: Pass the following variables as keyword args: x, y. From version 0.12, the only valid positional argument will be `data`, and passing other arguments without an explicit keyword will result in an error or misinterpretation.\n",
      "  FutureWarning\n",
      "/home/kwagstyl/anaconda3/envs/lexicon/lib/python3.7/site-packages/seaborn/_decorators.py:43: FutureWarning: Pass the following variables as keyword args: x, y. From version 0.12, the only valid positional argument will be `data`, and passing other arguments without an explicit keyword will result in an error or misinterpretation.\n",
      "  FutureWarning\n",
      "/home/kwagstyl/anaconda3/envs/lexicon/lib/python3.7/site-packages/seaborn/_decorators.py:43: FutureWarning: Pass the following variables as keyword args: x, y. From version 0.12, the only valid positional argument will be `data`, and passing other arguments without an explicit keyword will result in an error or misinterpretation.\n",
      "  FutureWarning\n"
     ]
    },
    {
     "name": "stdout",
     "output_type": "stream",
     "text": [
      "In6 0.6786646258523633\n",
      "matching gene ids and names...\n",
      "In7 0.4963868148556477\n",
      "matching gene ids and names...\n",
      "In8 0.24262872907557373\n"
     ]
    },
    {
     "data": {
      "image/png": "[encoded data removed]",
      "text/plain": [
       "<Figure size 432x288 with 1 Axes>"
      ]
     },
     "metadata": {
      "needs_background": "light"
     },
     "output_type": "display_data"
    }
   ],
   "source": [
    "fig,ax=plt.subplots()\n",
    "all_r=[]\n",
    "all_s=[]\n",
    "rs=[]\n",
    "cell_df = pd.read_excel('lake_genes.xlsx',sheet_name='Ex')\n",
    "cell_indices=[]\n",
    "cell_maps = []\n",
    "for ci,cell_type in enumerate(np.unique(cell_df['cluster'])):\n",
    "    genes_in_type = cell_df['Gene'][cell_df['cluster']==cell_type]\n",
    "    #ensembles=df['Ensembl ID'][df['SubType']==cell_type].values\n",
    "    #ensemble_list=[]\n",
    "    #for e in ensembles:\n",
    "   #     ensemble_list.append(e.split('.')[0])\n",
    "    indexes,included=get_indices(genes_in_type) #,\n",
    "                                 #gene_ensembl=ensemble_list)\n",
    "    gene_map = np.mean(concat[indexes],axis=0)\n",
    "    cell_maps.append(gene_map)\n",
    "    rois = ba_df['Region'].values\n",
    "    roi_vec=ba_df[cell_type]\n",
    "    roi_expr=[]\n",
    "    for ri,r in enumerate(rois):\n",
    "\n",
    "        roi_expr.append(np.mean(gene_map[parcellation==ri+1]))\n",
    "    #roi_expr = np.array(roi_expr)\n",
    "    rs.append(np.corrcoef(roi_vec,roi_expr)[0,1])\n",
    "    all_r.extend(list(roi_vec.values))\n",
    "    all_s.extend(roi_expr)\n",
    "    print(cell_type,np.corrcoef(roi_vec,roi_expr)[0,1])\n",
    "    cell_indices.extend(np.ones(len(roi_expr))*ci)\n",
    "    #ax.scatter(roi_vec,roi_expr)\n",
    "    sns.regplot(roi_vec,roi_expr,ax=ax,ci=None)\n",
    "cell_df = pd.read_excel('lake_genes.xlsx',sheet_name='In')\n",
    "\n",
    "\n",
    "for ci,cell_type in enumerate(np.unique(cell_df['cluster'])):\n",
    "    genes_in_type = cell_df['Gene'][cell_df['cluster']==cell_type]\n",
    "    #ensembles=df['Ensembl ID'][df['SubType']==cell_type].values\n",
    "    #ensemble_list=[]\n",
    "    #for e in ensembles:\n",
    "   #     ensemble_list.append(e.split('.')[0])\n",
    "    indexes,included=get_indices(genes_in_type) #,\n",
    "                                 #gene_ensembl=ensemble_list)\n",
    "    gene_map = np.mean(concat[indexes],axis=0)\n",
    "    cell_maps.append(gene_map)\n",
    "    rois = ba_df['Region'].values\n",
    "    roi_vec=ba_df[cell_type]\n",
    "    roi_expr=[]\n",
    "    for ri,r in enumerate(rois):\n",
    "\n",
    "        roi_expr.append(np.mean(gene_map[parcellation==ri+1]))\n",
    "    #roi_expr = np.array(roi_expr)\n",
    "    rs.append(np.corrcoef(roi_vec,roi_expr)[0,1])\n",
    "    all_r.extend(list(roi_vec.values))\n",
    "\n",
    "    all_s.extend(roi_expr)\n",
    "    cell_indices.extend(np.ones(len(roi_expr))*ci+8)\n",
    "    print(cell_type,np.corrcoef(roi_vec,roi_expr)[0,1])\n",
    "    #ax.scatter(roi_vec,roi_expr)\n",
    "    sns.regplot(roi_vec,roi_expr,ax=ax,ci=None)\n",
    "    "
   ]
  },
  {
   "cell_type": "code",
   "execution_count": 10,
   "metadata": {},
   "outputs": [],
   "source": [
    "cell_maps = np.array(cell_maps)\n",
    "spins = np.load('spins_1000.npy')\n"
   ]
  },
  {
   "cell_type": "code",
   "execution_count": 22,
   "metadata": {},
   "outputs": [],
   "source": [
    "all_r_s=[]\n",
    "for ri,r in enumerate(rois):\n",
    "        all_r_s.append(np.mean(cell_maps[:,parcellation==ri+1],axis=1))"
   ]
  },
  {
   "cell_type": "code",
   "execution_count": 28,
   "metadata": {},
   "outputs": [
    {
     "data": {
      "text/plain": [
       "array([ True,  True,  True,  True,  True,  True,  True,  True,  True,\n",
       "        True,  True,  True,  True,  True,  True,  True,  True,  True,\n",
       "        True,  True,  True,  True,  True,  True,  True,  True,  True,\n",
       "        True,  True,  True,  True,  True,  True,  True,  True,  True,\n",
       "        True,  True,  True,  True,  True,  True,  True,  True,  True,\n",
       "        True,  True,  True,  True,  True,  True,  True,  True,  True,\n",
       "        True,  True,  True,  True,  True,  True,  True,  True,  True,\n",
       "        True,  True,  True,  True,  True,  True,  True,  True,  True,\n",
       "        True,  True,  True,  True,  True,  True,  True,  True,  True,\n",
       "        True,  True,  True,  True,  True,  True,  True,  True,  True,\n",
       "        True,  True,  True,  True,  True,  True])"
      ]
     },
     "execution_count": 28,
     "metadata": {},
     "output_type": "execute_result"
    }
   ],
   "source": [
    "all_r_s = np.array(all_r_s).T\n",
    "(all_r_s.ravel()-all_s)<0.02"
   ]
  },
  {
   "cell_type": "code",
   "execution_count": 49,
   "metadata": {},
   "outputs": [],
   "source": [
    "t = np.array(all_r_s.ravel())\n",
    "all_s = np.array(all_s)\n",
    "all_r=np.array(all_r)\n",
    "r_val,p = stats.pearsonr(all_r[all_s<1.5],t[all_s<1.5])\n",
    "n_perm = 1000\n",
    "permed = np.zeros(n_perm)\n",
    "cell_c = cell_maps[:,cortex]\n",
    "for perm in np.arange(n_perm):\n",
    "    spun_maps = cell_c[:,spins[perm]]\n",
    "    s_r_s=[]\n",
    "    for ri,r in enumerate(rois):\n",
    "        s_r_s.append(np.mean(cell_maps[:,parcellation==ri+1],axis=1))\n",
    "    s_r_s = np.array(s_r_s).T\n",
    "    t=np.array(s_r_s.ravel())\n",
    "    permed[perm],p = stats.pearsonr(all_r[all_s<1.5],t[all_s<1.5])\n"
   ]
  },
  {
   "cell_type": "code",
   "execution_count": 51,
   "metadata": {},
   "outputs": [
    {
     "data": {
      "text/plain": [
       "(0.0, 0.4782035604405311)"
      ]
     },
     "execution_count": 51,
     "metadata": {},
     "output_type": "execute_result"
    }
   ],
   "source": [
    "np.mean(r_val<permed),r_val"
   ]
  },
  {
   "cell_type": "code",
   "execution_count": 9,
   "metadata": {},
   "outputs": [
    {
     "name": "stdout",
     "output_type": "stream",
     "text": [
      "                            OLS Regression Results                            \n",
      "==============================================================================\n",
      "Dep. Variable:                    Exp   R-squared:                       0.460\n",
      "Model:                            OLS   Adj. R-squared:                  0.351\n",
      "Method:                 Least Squares   F-statistic:                     4.205\n",
      "Date:                Wed, 18 May 2022   Prob (F-statistic):           8.49e-06\n",
      "Time:                        15:15:41   Log-Likelihood:                -53.899\n",
      "No. Observations:                  96   AIC:                             141.8\n",
      "Df Residuals:                      79   BIC:                             185.4\n",
      "Df Model:                          16                                         \n",
      "Covariance Type:            nonrobust                                         \n",
      "===================================================================================\n",
      "                      coef    std err          t      P>|t|      [0.025      0.975]\n",
      "-----------------------------------------------------------------------------------\n",
      "Intercept          -0.5578      0.204     -2.730      0.008      -0.965      -0.151\n",
      "C(Cell)[T.1.0]     -0.0474      0.270     -0.175      0.861      -0.585       0.490\n",
      "C(Cell)[T.2.0]      0.3013      0.270      1.116      0.268      -0.236       0.839\n",
      "C(Cell)[T.3.0]     -0.0068      0.270     -0.025      0.980      -0.544       0.531\n",
      "C(Cell)[T.4.0]      0.0002      0.270      0.001      0.999      -0.537       0.538\n",
      "C(Cell)[T.5.0]     -0.1470      0.270     -0.544      0.588      -0.684       0.390\n",
      "C(Cell)[T.6.0]     -0.3793      0.270     -1.405      0.164      -0.917       0.158\n",
      "C(Cell)[T.7.0]     -0.0089      0.270     -0.033      0.974      -0.546       0.529\n",
      "C(Cell)[T.8.0]     -0.1842      0.270     -0.682      0.497      -0.722       0.353\n",
      "C(Cell)[T.9.0]     -0.1694      0.270     -0.627      0.532      -0.707       0.368\n",
      "C(Cell)[T.10.0]    -0.0071      0.270     -0.026      0.979      -0.544       0.530\n",
      "C(Cell)[T.11.0]     0.0692      0.270      0.256      0.798      -0.468       0.607\n",
      "C(Cell)[T.12.0]     0.0076      0.270      0.028      0.977      -0.530       0.545\n",
      "C(Cell)[T.13.0]    -0.0143      0.270     -0.053      0.958      -0.552       0.523\n",
      "C(Cell)[T.14.0]     0.0227      0.270      0.084      0.933      -0.515       0.560\n",
      "C(Cell)[T.15.0]     0.2406      0.270      0.891      0.376      -0.297       0.778\n",
      "Count               0.0330      0.004      7.543      0.000       0.024       0.042\n",
      "==============================================================================\n",
      "Omnibus:                        8.253   Durbin-Watson:                   2.691\n",
      "Prob(Omnibus):                  0.016   Jarque-Bera (JB):               14.871\n",
      "Skew:                          -0.224   Prob(JB):                     0.000590\n",
      "Kurtosis:                       4.876   Cond. No.                         328.\n",
      "==============================================================================\n",
      "\n",
      "Notes:\n",
      "[1] Standard Errors assume that the covariance matrix of the errors is correctly specified.\n"
     ]
    },
    {
     "data": {
      "text/plain": [
       "<statsmodels.regression.linear_model.RegressionResultsWrapper at 0x7f61aff4df50>"
      ]
     },
     "execution_count": 9,
     "metadata": {},
     "output_type": "execute_result"
    }
   ],
   "source": [
    "import statsmodels.formula.api as smf\n",
    "df=pd.DataFrame(np.vstack([all_r,all_s,\n",
    "                           np.array(cell_indices)]).T,columns=['Count','Exp','Cell'])\n",
    "mod = smf.ols(formula='Exp ~ Count + C(Cell)', data=df)\n",
    "\n",
    "res = mod.fit()\n",
    "\n",
    "print(res.summary())\n",
    "res"
   ]
  },
  {
   "cell_type": "code",
   "execution_count": 39,
   "metadata": {},
   "outputs": [],
   "source": [
    "import scripts.paths as p\n",
    "from matplotlib.patches import Patch\n"
   ]
  },
  {
   "cell_type": "code",
   "execution_count": 46,
   "metadata": {},
   "outputs": [
    {
     "name": "stderr",
     "output_type": "stream",
     "text": [
      "/home/kwagstyl/anaconda3/envs/lexicon/lib/python3.7/site-packages/ipykernel_launcher.py:8: DeprecationWarning: `np.int` is a deprecated alias for the builtin `int`. To silence this warning, use `int` by itself. Doing this will not modify any behavior and is safe. When replacing `np.int`, you may wish to use e.g. `np.int64` or `np.int32` to specify the precision. If you wish to review your current use, check the release note link for additional information.\n",
      "Deprecated in NumPy 1.20; for more details and guidance: https://numpy.org/devdocs/release/1.20.0-notes.html#deprecations\n",
      "  \n"
     ]
    },
    {
     "data": {
      "image/png": "[encoded data removed]",
      "text/plain": [
       "<Figure size 360x360 with 1 Axes>"
      ]
     },
     "metadata": {
      "needs_background": "light"
     },
     "output_type": "display_data"
    }
   ],
   "source": [
    "fig,axes = plt.subplots(1,1,figsize=(5,5))\n",
    "ax=axes\n",
    "cell_indices_arr = np.array(cell_indices)\n",
    "cell_indices_arr[cell_indices_arr<8]=7-cell_indices_arr[cell_indices_arr<8]\n",
    "ax.scatter(all_r,all_s,c=cell_indices_arr,cmap=p.cmap_hex)\n",
    "legend_elements=[]\n",
    "for c in np.arange(16):\n",
    "    name=['Ex','In'][np.int(c>7)]\n",
    "    if c<8:\n",
    "        ci=7-c\n",
    "    else:\n",
    "        ci=c\n",
    "    legend_elements.append(Patch(facecolor=p.cmap_hex(ci/16), #edgecolor=colors_rgba[ci],\n",
    "                         label=name+str(1+c%8)))\n",
    "    \n",
    "\n",
    "\n",
    "#sns.regplot(all_r,all_s,color=cell_indices,ax=ax)\n",
    "R,p_=stats.pearsonr(all_r,all_s)\n",
    "R= np.round(R,2)\n",
    "props = dict(boxstyle='round', facecolor='white', alpha=0.5)\n",
    "\n",
    "ax.text(53,1.3,f'R={R}\\n'+'$p_{spin}$<0.001',fontsize=20, bbox=props)\n",
    "ax.set_ylabel('Mean DEM',fontsize=20)\n",
    "ax.set_xlabel('Regional cell subtype\\ndistribution %',fontsize=20)\n",
    "ax.set_yticks([-2,0,2])\n",
    "ax.set_yticklabels([-2,0,2],fontsize=20)\n",
    "ax.set_xticks(np.linspace(0,100,6))\n",
    "ax.set_xticklabels(np.round(np.linspace(0,100,6)).astype(int),fontsize=20)\n",
    "fig.legend(handles=legend_elements,fontsize=10,\n",
    "          bbox_to_anchor=(0.9,0.5),ncol=2)\n",
    "\n",
    "fig.savefig('figures/cell_types_scatter.pdf')\n",
    "#ax=axes[1]\n",
    "# sns.kdeplot(rs,bw_adjust=0.4,clip=(-1,1))\n",
    "# ax.set_xlim([-1.1,1.1])\n",
    "# ax.set_xlabel('R values per-cell')\n"
   ]
  },
  {
   "cell_type": "code",
   "execution_count": 14,
   "metadata": {},
   "outputs": [
    {
     "data": {
      "text/plain": [
       "array([ 4.73240279e-02, -9.78922129e-01,  4.28001285e-01,  5.24848998e-01,\n",
       "        2.61906862e-01, -3.32277626e-01,  3.58646125e-01, -8.78633618e-01,\n",
       "       -9.29594040e-02, -1.47320434e-01, -2.33951155e-02,  4.50366706e-01,\n",
       "       -6.08523607e-01,  3.06537962e+00, -5.74337959e-01, -2.11383581e-01,\n",
       "        5.59713304e-01, -4.72035676e-01,  3.82727265e-01, -8.19505930e-01,\n",
       "        2.41890535e-01,  1.12530299e-01,  4.93401177e-02, -5.71993627e-02,\n",
       "        3.93444449e-01, -1.22374547e+00,  3.28697532e-01,  1.75422668e-01,\n",
       "        1.15909822e-01,  1.62310556e-01, -8.09687972e-02, -2.34642059e-01,\n",
       "       -3.05625647e-01, -2.30492115e-01, -9.95432511e-02,  2.03884766e-02,\n",
       "        4.55458522e-01, -1.35688424e+00, -6.92125559e-01, -6.40455723e-01,\n",
       "       -8.45838785e-01,  7.55129874e-01, -4.05464061e-02, -2.84084767e-01,\n",
       "       -1.30325958e-01,  2.52115098e-03,  2.39431903e-01,  1.10621236e-01,\n",
       "        7.68183589e-01, -2.04284406e+00,  1.58487692e-01,  7.91427940e-02,\n",
       "       -3.95320356e-01,  2.77888209e-01,  1.08198009e-01, -5.74946404e-01,\n",
       "       -6.30902350e-02, -1.08498305e-01, -2.81371683e-01, -1.45719290e-01,\n",
       "        1.37383401e-01, -3.95963430e-01,  1.72815442e-01,  8.51769522e-02,\n",
       "       -8.36137086e-02, -7.26344483e-03, -1.71310857e-01,  4.24615234e-01,\n",
       "       -1.13819480e-01,  2.58171707e-02,  2.00656056e-01,  4.81605530e-05,\n",
       "        1.08407490e-01, -6.89313114e-01,  4.64171499e-01,  4.16236639e-01,\n",
       "        7.99373239e-02, -3.82723331e-01, -1.57194793e-01,  9.24413931e-03,\n",
       "       -4.07869548e-01, -2.07020223e-01,  2.60836989e-01,  3.67375314e-01,\n",
       "       -2.04691797e-01, -5.04314303e-01,  2.26760641e-01,  2.47000158e-01,\n",
       "        1.93582386e-01,  1.28924534e-01,  1.69278491e+00, -7.05027819e-01,\n",
       "        1.60390049e-01,  1.33348867e-01, -1.07223773e-02,  1.23446040e-01],\n",
       "      dtype=float32)"
      ]
     },
     "execution_count": 14,
     "metadata": {},
     "output_type": "execute_result"
    }
   ],
   "source": [
    "all_r=np.array(all_r)\n",
    "all_s=np.array(all_s)\n",
    "all_s"
   ]
  },
  {
   "cell_type": "code",
   "execution_count": 15,
   "metadata": {},
   "outputs": [
    {
     "data": {
      "text/plain": [
       "0.4782035226326606"
      ]
     },
     "execution_count": 15,
     "metadata": {},
     "output_type": "execute_result"
    }
   ],
   "source": [
    "#double check not driven by outlier\n",
    "R,p_=stats.pearsonr(all_r[all_s<1.5],all_s[all_s<1.5])\n",
    "R"
   ]
  },
  {
   "cell_type": "code",
   "execution_count": null,
   "metadata": {},
   "outputs": [],
   "source": []
  },
  {
   "cell_type": "code",
   "execution_count": null,
   "metadata": {
    "collapsed": true
   },
   "outputs": [],
   "source": []
  }
 ],
 "metadata": {
  "kernelspec": {
   "display_name": "lexicon",
   "language": "python",
   "name": "lexicon"
  },
  "language_info": {
   "codemirror_mode": {
    "name": "ipython",
    "version": 3
   },
   "file_extension": ".py",
   "mimetype": "text/x-python",
   "name": "python",
   "nbconvert_exporter": "python",
   "pygments_lexer": "ipython3",
   "version": "3.10.6"
  }
 },
 "nbformat": 4,
 "nbformat_minor": 2
}
